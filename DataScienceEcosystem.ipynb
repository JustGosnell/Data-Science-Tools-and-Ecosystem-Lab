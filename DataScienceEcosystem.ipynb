{
 "cells": [
  {
   "cell_type": "markdown",
   "id": "383d4e48-6377-4ef0-ab57-d5c68e1934c4",
   "metadata": {},
   "source": [
    "# Data Science Tools and Ecosystem"
   ]
  },
  {
   "cell_type": "markdown",
   "id": "1fecafc8-15d2-4ad7-80c5-1603c8d7ab53",
   "metadata": {},
   "source": [
    "In this notebook, Data Science Tools and Ecosystem are summarized."
   ]
  },
  {
   "cell_type": "markdown",
   "id": "7795bfcf-4ccf-4400-9c6d-6e168614eee3",
   "metadata": {},
   "source": [
    "Some of the popular languages that Data Scientists use are:\n",
    "\n",
    "1. Python  \n",
    "2. R  \n",
    "3. SQL  \n",
    "4. Julia  "
   ]
  },
  {
   "cell_type": "markdown",
   "id": "d60e5064-79b6-447c-9f53-3bdc2e966212",
   "metadata": {},
   "source": [
    "Some of the commonly used libraries used by Data Scientists include:\n",
    "\n",
    "1. Pandas  \n",
    "2. NumPy  \n",
    "3. Matplotlib  \n"
   ]
  },
  {
   "cell_type": "markdown",
   "id": "468f57e2-6290-46c8-a00e-9c497ad41af8",
   "metadata": {},
   "source": [
    "| Data Science Tools |\n",
    "|--------------------|\n",
    "| Jupyter Notebook   |\n",
    "| RStudio            |\n",
    "| Apache Zeppelin    |"
   ]
  },
  {
   "cell_type": "markdown",
   "id": "7830cff5-45a8-4cd1-b280-2b48c2316396",
   "metadata": {},
   "source": [
    "### Below are a few examples of evaluating arithmetic expressions in Python.\n"
   ]
  },
  {
   "cell_type": "code",
   "execution_count": 4,
   "id": "ab2e52ab-154a-48ef-81f4-d06cd1cccd25",
   "metadata": {},
   "outputs": [
    {
     "data": {
      "text/plain": [
       "17"
      ]
     },
     "execution_count": 4,
     "metadata": {},
     "output_type": "execute_result"
    }
   ],
   "source": [
    "# This is a simple arithmetic expression to multiply then add integers\n",
    "(3 * 4) + 5\n"
   ]
  },
  {
   "cell_type": "code",
   "execution_count": 5,
   "id": "46789878-ed1d-40ed-913c-a771f9f914a2",
   "metadata": {},
   "outputs": [
    {
     "data": {
      "text/plain": [
       "3.3333333333333335"
      ]
     },
     "execution_count": 5,
     "metadata": {},
     "output_type": "execute_result"
    }
   ],
   "source": [
    "# This will convert 200 minutes to hours by dividing by 60\n",
    "200 / 60\n"
   ]
  },
  {
   "cell_type": "markdown",
   "id": "13e6c147-5869-4f4b-aa9b-f1abef6d5540",
   "metadata": {},
   "source": [
    "**Objectives:**\n",
    "\n",
    "- Highlight some of the main programming languages used in Data Science  \n",
    "- Point out popular libraries that support data analysis and machine learning  \n",
    "- Show examples of open-source tools used by Data Scientists  \n",
    "- Practice writing and running simple arithmetic expressions in Python  \n",
    "- Perform a quick conversion from minutes to hours using Python code  \n"
   ]
  },
  {
   "cell_type": "markdown",
   "id": "e1078705-6de9-4f21-b031-2935f911d072",
   "metadata": {},
   "source": [
    "## Author\n",
    "Justin Gosnell"
   ]
  },
  {
   "cell_type": "code",
   "execution_count": null,
   "id": "239930c4-7dd9-4611-af30-b4e420dd5654",
   "metadata": {},
   "outputs": [],
   "source": []
  }
 ],
 "metadata": {
  "kernelspec": {
   "display_name": "Python 3 (ipykernel)",
   "language": "python",
   "name": "python3"
  },
  "language_info": {
   "codemirror_mode": {
    "name": "ipython",
    "version": 3
   },
   "file_extension": ".py",
   "mimetype": "text/x-python",
   "name": "python",
   "nbconvert_exporter": "python",
   "pygments_lexer": "ipython3",
   "version": "3.12.8"
  }
 },
 "nbformat": 4,
 "nbformat_minor": 5
}
